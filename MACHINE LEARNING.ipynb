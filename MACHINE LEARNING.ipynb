{
 "cells": [
  {
   "cell_type": "markdown",
   "metadata": {},
   "source": [
    "# INTRODUCTION\n",
    "Ce notebook se concentre sur l'application pratique  des concepts du Machine Learning. À travers l'analyse de nos données, nous allons illustrer les étapes essentielles pour exploiter le machine learning, depuis le chargement et l'exploration des données jusqu'à la modélisation et l'évaluation des résultats.\n",
    "\n",
    "L'objectif est de fournir une compréhension approfondie des principes fondamentaux tout en démontrant leur application concrète à des jeux de données réels. Cela permettra de construire des modèles capables de fournir des prédictions ou des analyses utiles, tout en mettant en évidence les défis et meilleures pratiques dans ce domaine.\n",
    "\n"
   ]
  },
  {
   "cell_type": "markdown",
   "metadata": {},
   "source": [
    "# PRODUITS"
   ]
  },
  {
   "cell_type": "markdown",
   "metadata": {},
   "source": [
    "## Chargement des données\n",
    "Le fichier Excel est chargé dans un DataFrame Pandas à l’aide de la commande pd.read_excel. Ensuite, les premières lignes du jeu de données sont affichées pour vérifier son contenu et sa structure pour assurer que les données sont correctement importées et de repérer les colonnes disponibles."
   ]
  },
  {
   "cell_type": "code",
   "execution_count": 167,
   "metadata": {},
   "outputs": [
    {
     "name": "stdout",
     "output_type": "stream",
     "text": [
      "  NameProduct Name Territory ContryRegionCode       DATE ProductNumber  \\\n",
      "0     Helmets      Southeast               US 2011-10-01     HL-U509-R   \n",
      "1     Helmets      Southeast               US 2011-08-31     HL-U509-R   \n",
      "2     Helmets      Southwest               US 2012-01-01     HL-U509-R   \n",
      "3     Helmets      Northeast               US 2011-08-31     HL-U509-R   \n",
      "4     Helmets         Canada               CA 2012-01-01     HL-U509-R   \n",
      "\n",
      "   StandardCost  ListPrice  Weight  Qty Name_category  \n",
      "0       13.0863      34.99    -1.0   10   Accessories  \n",
      "1       13.0863      34.99    -1.0   11   Accessories  \n",
      "2       13.0863      34.99    -1.0    1   Accessories  \n",
      "3       13.0863      34.99    -1.0    1   Accessories  \n",
      "4       13.0863      34.99    -1.0   13   Accessories  \n"
     ]
    }
   ],
   "source": [
    "import pandas as pd\n",
    "# Charger les données\n",
    "data = pd.read_excel('C:\\\\Users\\\\PE\\\\Desktop\\\\machine learning\\\\tesdt1.xlsx')\n",
    "\n",
    "# Afficher les premières lignes des données\n",
    "print(data.head())"
   ]
  },
  {
   "cell_type": "markdown",
   "metadata": {},
   "source": [
    "## Préparation des données\n",
    "Pour garantir que les données soient prêtes à être utilisées dans un modèle de machine learning, plusieurs étapes de nettoyage et de transformation sont réalisées :\n",
    "Gestion des valeurs manquantes : Les valeurs manquantes dans le DataFrame sont remplacées par la moyenne des colonnes correspondantes. Cela évite que des données manquantes empêchent l’entraînement du modèle."
   ]
  },
  {
   "cell_type": "code",
   "execution_count": 164,
   "metadata": {},
   "outputs": [
    {
     "name": "stdout",
     "output_type": "stream",
     "text": [
      "StandardCost    0\n",
      "ListPrice       0\n",
      "Weight          0\n",
      "Qty             0\n",
      "dtype: int64\n"
     ]
    }
   ],
   "source": [
    "# Vérifier les données manquantes\n",
    "print(data.isnull().sum())"
   ]
  },
  {
   "cell_type": "code",
   "execution_count": 165,
   "metadata": {},
   "outputs": [],
   "source": [
    "# Remplacer les valeurs manquantes par la moyenne\n",
    "data = data.fillna(data.mean())"
   ]
  },
  {
   "cell_type": "code",
   "execution_count": 166,
   "metadata": {},
   "outputs": [
    {
     "name": "stdout",
     "output_type": "stream",
     "text": [
      "       StandardCost    ListPrice       Weight          Qty\n",
      "count   3989.000000  3989.000000  3989.000000  3989.000000\n",
      "mean    1221.542899  2059.465944    13.194741     4.608925\n",
      "std      862.233408  1452.684638     7.659678     5.633533\n",
      "min        3.396300     8.990000    -1.000000     1.000000\n",
      "25%      486.706600   782.990000     2.840000     1.000000\n",
      "50%      884.708300  1457.990000    14.680000     2.000000\n",
      "75%     2171.294200  3578.270000    19.790000     6.000000\n",
      "max     2171.294200  3578.270000    21.420000    54.000000\n"
     ]
    }
   ],
   "source": [
    "# Résumé statistique des colonnes numériques\n",
    "print(data.describe())"
   ]
  },
  {
   "cell_type": "markdown",
   "metadata": {},
   "source": [
    "## Prediction de produit en fomction des autres caractéristiques\n",
    "Le code implémente un modèle d'apprentissage automatique basé sur un Random Forest Classifier pour prédire des produits à partir d'un ensemble de données contenant des caractéristiques comme le prix (ListPrice) et le territoire (Name Territory). Les données sont chargées depuis un fichier Excel et préparées en séparant les caractéristiques (X) de la cible (y), avec encodage des variables catégorielles pour une utilisation avec le modèle. Après séparation en ensembles d'entraînement et de test, le modèle est entraîné et évalué à l'aide de la précision. Les prédictions du modèle sont ajoutées au DataFrame original, puis exportées dans un nouveau fichier Excel. Enfin, le code prévoit la prédiction sur de nouvelles données en utilisant les mêmes caractéristiques que l'ensemble d'entraînement."
   ]
  },
  {
   "cell_type": "code",
   "execution_count": 125,
   "metadata": {},
   "outputs": [
    {
     "name": "stderr",
     "output_type": "stream",
     "text": [
      "C:\\Users\\PE\\AppData\\Local\\Temp\\ipykernel_31720\\2983191701.py:17: SettingWithCopyWarning: \n",
      "A value is trying to be set on a copy of a slice from a DataFrame.\n",
      "Try using .loc[row_indexer,col_indexer] = value instead\n",
      "\n",
      "See the caveats in the documentation: https://pandas.pydata.org/pandas-docs/stable/user_guide/indexing.html#returning-a-view-versus-a-copy\n",
      "  X['Name Territory'] = LabelEncoder().fit_transform(X['Name Territory'])\n"
     ]
    },
    {
     "name": "stdout",
     "output_type": "stream",
     "text": [
      "Accuracy: 99.87%\n",
      "Les résultats ont été sauvegardés dans le fichier : predicted_data.xlsx\n",
      "Produit prédit pour les données nouvelles: Helmets\n"
     ]
    }
   ],
   "source": [
    "import pandas as pd\n",
    "from sklearn.model_selection import train_test_split\n",
    "from sklearn.preprocessing import LabelEncoder\n",
    "from sklearn.ensemble import RandomForestClassifier\n",
    "from sklearn.metrics import accuracy_score\n",
    "\n",
    "# Charger les données\n",
    "data = pd.read_excel('C:\\\\Users\\\\PE\\\\Desktop\\\\machine learning\\\\tesdt1.xlsx')\n",
    "\n",
    "df = pd.DataFrame(data)\n",
    "\n",
    "# Préparation des données\n",
    "X = df[['ListPrice', 'Name Territory']]\n",
    "y = df['NameProduct']\n",
    "\n",
    "# Encodage des variables catégorielles\n",
    "X['Name Territory'] = LabelEncoder().fit_transform(X['Name Territory'])\n",
    "\n",
    "# Séparation des données en ensembles d'entraînement et de test\n",
    "X_train, X_test, y_train, y_test = train_test_split(X, y, test_size=0.2, random_state=42)\n",
    "\n",
    "# Choix du modèle\n",
    "model = RandomForestClassifier()\n",
    "\n",
    "# Entraînement du modèle\n",
    "model.fit(X_train, y_train)\n",
    "\n",
    "# Prédictions\n",
    "y_pred = model.predict(X_test)\n",
    "\n",
    "# Évaluation du modèle\n",
    "accuracy = accuracy_score(y_test, y_pred)\n",
    "print(f'Accuracy: {accuracy * 100:.2f}%')\n",
    "\n",
    "# Ajouter la colonne de prédictions au DataFrame 'df'\n",
    "df['PredictedProduct'] = model.predict(X)\n",
    "\n",
    "# Sauvegarder le DataFrame dans un fichier Excel\n",
    "output_file = 'predicted_data.xlsx'\n",
    "df.to_excel(output_file, index=False)\n",
    "\n",
    "# Confirmer que le fichier a été créé\n",
    "print(f\"Les résultats ont été sauvegardés dans le fichier : {output_file}\")\n",
    "\n",
    "# Prédiction pour de nouvelles données\n",
    "new_data = pd.DataFrame({\n",
    "    'ListPrice': [34.99],\n",
    "    'Name Territory': [LabelEncoder().fit(['Southeast', 'Southwest', 'Northeast', 'Canada']).transform(['Southeast'])[0]]\n",
    "})\n",
    "\n",
    "predicted_product = model.predict(new_data)\n",
    "print(f'Produit prédit pour les données nouvelles: {predicted_product[0]}')\n"
   ]
  },
  {
   "cell_type": "markdown",
   "metadata": {},
   "source": [
    "## Prédiction de Quantités à l'Aide de Random Forest Regressor \n",
    "Le script effectue une régression sur des données à l'aide d'un **Random Forest Regressor** pour prédire la quantité (**Qty**) en fonction de caractéristiques comme le prix (**ListPrice**) et le territoire (**Name Territory**). Il inclut un traitement des données manquantes, un encodage des variables catégorielles, et une recherche des meilleurs hyperparamètres via **GridSearchCV**. Après avoir trouvé les meilleurs paramètres, le modèle est ajusté sur les données d'entraînement et testé sur des données de test pour évaluer ses performances.\n",
    "\n",
    "Enfin, une prédiction est réalisée sur une nouvelle entrée, où un prix de liste et un territoire sont fournis. "
   ]
  },
  {
   "cell_type": "code",
   "execution_count": 158,
   "metadata": {},
   "outputs": [
    {
     "name": "stdout",
     "output_type": "stream",
     "text": [
      "Meilleurs hyperparamètres : {'max_depth': None, 'min_samples_leaf': 4, 'min_samples_split': 10, 'n_estimators': 200}\n",
      "La quantité prédite pour le ListPrice de 34.99 et le territoire Canada est : 11.438975705458557\n"
     ]
    }
   ],
   "source": [
    "import pandas as pd\n",
    "from sklearn.model_selection import train_test_split\n",
    "from sklearn.ensemble import RandomForestRegressor\n",
    "from sklearn.preprocessing import LabelEncoder\n",
    "from sklearn.impute import SimpleImputer\n",
    "from sklearn.metrics import mean_squared_error, r2_score\n",
    "\n",
    "# Charger les données (assurez-vous d'avoir la colonne DATE)\n",
    "data = pd.read_excel('C:\\\\Users\\\\PE\\\\Desktop\\\\machine learning\\\\tesdt1.xlsx')\n",
    "\n",
    "# Vérification de la structure des données\n",
    "df = pd.DataFrame(data)\n",
    "# Traitement des données manquantes pour 'ListPrice'\n",
    "imputer = SimpleImputer(strategy='mean')\n",
    "df['ListPrice'] = imputer.fit_transform(df[['ListPrice']])\n",
    "\n",
    "# Encodage de la variable catégorielle 'Name Territory'\n",
    "le = LabelEncoder()\n",
    "\n",
    "# Encoder uniquement si les classes n'ont pas déjà été définies\n",
    "if df['Name Territory'].isnull().any():\n",
    "    df['Name Territory'] = df['Name Territory'].fillna('Unknown')  # Remplacer les valeurs manquantes par 'Unknown'\n",
    "    \n",
    "le.fit(df['Name Territory'])  # Fit sur les données d'entraînement\n",
    "\n",
    "df['Name Territory'] = le.transform(df['Name Territory'])\n",
    "\n",
    "# Diviser les données en ensembles d'entraînement et de test\n",
    "X = df[['ListPrice', 'Name Territory']]\n",
    "y = df['Qty']\n",
    "\n",
    "X_train, X_test, y_train, y_test = train_test_split(X, y, test_size=0.2, random_state=42)\n",
    "\n",
    "# Définir les hyperparamètres à tester pour le modèle RandomForestRegressor\n",
    "param_grid = {\n",
    "    'n_estimators': [50, 100, 200],\n",
    "    'max_depth': [None, 10, 20, 30],\n",
    "    'min_samples_split': [2, 5, 10],\n",
    "    'min_samples_leaf': [1, 2, 4]\n",
    "}\n",
    "\n",
    "# Utiliser GridSearchCV pour optimiser les hyperparamètres\n",
    "from sklearn.model_selection import GridSearchCV\n",
    "\n",
    "grid_search = GridSearchCV(estimator=RandomForestRegressor(random_state=42), \n",
    "                           param_grid=param_grid, \n",
    "                           cv=5, \n",
    "                           scoring='neg_mean_squared_error', \n",
    "                           n_jobs=-1)\n",
    "\n",
    "grid_search.fit(X_train, y_train)\n",
    "\n",
    "# Afficher les meilleurs paramètres trouvés par GridSearchCV\n",
    "print(f\"Meilleurs hyperparamètres : {grid_search.best_params_}\")\n",
    "\n",
    "# Entraîner le modèle avec les meilleurs paramètres\n",
    "best_model = grid_search.best_estimator_\n",
    "\n",
    "# Prédire sur les données de test\n",
    "y_pred_test = best_model.predict(X_test)\n",
    "# Prédiction pour une nouvelle donnée\n",
    "listprice = 34.99  # Exemple de prix de liste\n",
    "territory_name = 'Canada'  # Exemple de territoire\n",
    "\n",
    "# Vérifier si le territoire 'Southeast' existe déjà dans les classes d'encodage\n",
    "if territory_name in le.classes_:\n",
    "    territory_encoded = le.transform([territory_name])[0]\n",
    "else:\n",
    "    # Si le territoire n'a pas été vu auparavant, l'ajouter aux classes et l'encoder\n",
    "    territory_encoded = len(le.classes_)\n",
    "    le.classes_ = np.append(le.classes_, territory_name)\n",
    "\n",
    "# Créer une nouvelle ligne de données pour la prédiction\n",
    "new_data = pd.DataFrame({\n",
    "    'ListPrice': [listprice],\n",
    "    'Name Territory': [territory_encoded]\n",
    "})\n",
    "\n",
    "# Prédire la quantité pour cette nouvelle donnée\n",
    "predicted_qty = best_model.predict(new_data)\n",
    "print(f\"La quantité prédite pour le ListPrice de {listprice} et le territoire {territory_name} est : {predicted_qty[0]}\")\n"
   ]
  },
  {
   "cell_type": "markdown",
   "metadata": {},
   "source": [
    "# VENDEURS & REVENUE\n",
    "Passons maintenant à l'analyse des performances des vendeurs, une étape cruciale pour évaluer l’impact individuel de chaque membre de l’équipe commerciale sur les revenus globaux. Ce tableau joue un rôle central en permettant de suivre les tendances de vente par vendeur, d’identifier les meilleurs contributeurs et de repérer les opportunités d’amélioration. En fournissant une vue détaillée des performances individuelles et prévisionnelles, il devient un outil clé pour la prise de décision stratégique, qu’il s’agisse d’optimiser les ressources, d’ajuster les objectifs ou de mettre en place des actions ciblées pour motiver et renforcer l’efficacité de l’équipe."
   ]
  },
  {
   "cell_type": "markdown",
   "metadata": {},
   "source": [
    "## Chargement des données :\n",
    "Les données sont importées depuis un fichier Excel (pd.read_excel).\n",
    "Le fichier contient des informations telles que SalePersonKey, Revenue, DATE, et d'autres colonnes pertinentes.\n"
   ]
  },
  {
   "cell_type": "code",
   "execution_count": 2,
   "metadata": {},
   "outputs": [
    {
     "name": "stdout",
     "output_type": "stream",
     "text": [
      "Premières lignes du dataset:\n",
      "   SalePersonKey   Revenue  NumberOrder       DATE         FullName Gender  \\\n",
      "0              1   2417.47            1 2011-10-01  Stephen Y Jiang      M   \n",
      "1              1  90167.33            1 2012-10-30  Stephen Y Jiang      M   \n",
      "2              1  33206.02            1 2012-08-30  Stephen Y Jiang      M   \n",
      "3              1  29638.27            1 2012-08-30  Stephen Y Jiang      M   \n",
      "4              1  17990.96            1 2013-06-30  Stephen Y Jiang      M   \n",
      "\n",
      "    HireDate       Name ContryRegionCode  \n",
      "0 2011-01-04  Southeast               US  \n",
      "1 2011-01-04  Southeast               US  \n",
      "2 2011-01-04  Southwest               US  \n",
      "3 2011-01-04  Northeast               US  \n",
      "4 2011-01-04     Canada               CA  \n"
     ]
    }
   ],
   "source": [
    "import pandas as pd\n",
    "# Charger les données\n",
    "file_path = r\"C:\\Users\\PE\\Desktop\\machine learning\\tesss4.xlsx\"\n",
    "data = pd.read_excel(file_path)\n",
    "\n",
    "# Afficher les premières lignes\n",
    "print(\"Premières lignes du dataset:\")\n",
    "print(data.head())"
   ]
  },
  {
   "cell_type": "markdown",
   "metadata": {},
   "source": [
    "## Exploration initiale :\n",
    "Aperçu des données :\n",
    "Les premières lignes sont affichées pour comprendre la structure, les types de colonnes, et obtenir un aperçu général des données.\n",
    "Informations générales :\n",
    "Affichage des types de données (numériques, textuelles, etc.), du nombre de valeurs non nulles, et de la mémoire utilisée."
   ]
  },
  {
   "cell_type": "code",
   "execution_count": 3,
   "metadata": {},
   "outputs": [
    {
     "name": "stdout",
     "output_type": "stream",
     "text": [
      "\n",
      "Informations sur le dataset:\n",
      "<class 'pandas.core.frame.DataFrame'>\n",
      "RangeIndex: 452 entries, 0 to 451\n",
      "Data columns (total 9 columns):\n",
      " #   Column            Non-Null Count  Dtype         \n",
      "---  ------            --------------  -----         \n",
      " 0   SalePersonKey     452 non-null    int64         \n",
      " 1   Revenue           452 non-null    float64       \n",
      " 2   NumberOrder       452 non-null    int64         \n",
      " 3   DATE              452 non-null    datetime64[ns]\n",
      " 4   FullName          452 non-null    object        \n",
      " 5   Gender            452 non-null    object        \n",
      " 6   HireDate          452 non-null    datetime64[ns]\n",
      " 7   Name              452 non-null    object        \n",
      " 8   ContryRegionCode  452 non-null    object        \n",
      "dtypes: datetime64[ns](2), float64(1), int64(2), object(4)\n",
      "memory usage: 31.9+ KB\n",
      "None\n"
     ]
    }
   ],
   "source": [
    "# Informations générales sur le dataset\n",
    "print(\"\\nInformations sur le dataset:\")\n",
    "print(data.info())"
   ]
  },
  {
   "cell_type": "code",
   "execution_count": 4,
   "metadata": {},
   "outputs": [
    {
     "name": "stdout",
     "output_type": "stream",
     "text": [
      "\n",
      "Valeurs manquantes dans le dataset:\n",
      "SalePersonKey       0\n",
      "Revenue             0\n",
      "NumberOrder         0\n",
      "DATE                0\n",
      "FullName            0\n",
      "Gender              0\n",
      "HireDate            0\n",
      "Name                0\n",
      "ContryRegionCode    0\n",
      "dtype: int64\n"
     ]
    }
   ],
   "source": [
    "# Vérifier les valeurs manquantes\n",
    "print(\"\\nValeurs manquantes dans le dataset:\")\n",
    "print(data.isnull().sum())"
   ]
  },
  {
   "cell_type": "code",
   "execution_count": 5,
   "metadata": {},
   "outputs": [
    {
     "name": "stdout",
     "output_type": "stream",
     "text": [
      "\n",
      "Nombre de doublons dans le dataset:\n",
      "0\n"
     ]
    }
   ],
   "source": [
    "# Vérifier les doublons\n",
    "print(\"\\nNombre de doublons dans le dataset:\")\n",
    "print(data.duplicated().sum())"
   ]
  },
  {
   "cell_type": "markdown",
   "metadata": {},
   "source": [
    "## Analyse descriptive :\n",
    "Statistiques des colonnes numériques :\n",
    "Génération de statistiques descriptives (moyenne, écart-type, minimum, maximum) pour les colonnes numériques, offrant une vue d'ensemble des distributions et des plages de valeurs."
   ]
  },
  {
   "cell_type": "code",
   "execution_count": 6,
   "metadata": {},
   "outputs": [
    {
     "name": "stdout",
     "output_type": "stream",
     "text": [
      "\n",
      "Statistiques descriptives des colonnes numériques:\n",
      "       SalePersonKey        Revenue  NumberOrder  \\\n",
      "count     452.000000     452.000000   452.000000   \n",
      "mean        6.053097  127526.466969     5.033186   \n",
      "min         1.000000      22.930000     1.000000   \n",
      "25%         3.000000   35261.642500     1.000000   \n",
      "50%         5.000000   96063.280000     4.000000   \n",
      "75%         8.000000  187211.722500     7.000000   \n",
      "max        16.000000  779610.180000    20.000000   \n",
      "std         3.948877  120240.984449     4.152445   \n",
      "\n",
      "                                DATE                       HireDate  \n",
      "count                            452                            452  \n",
      "mean   2012-07-20 19:32:23.362831872  2011-07-10 07:38:45.663716864  \n",
      "min              2011-05-31 00:00:00            2011-01-04 00:00:00  \n",
      "25%              2012-01-22 00:00:00            2011-05-31 00:00:00  \n",
      "50%              2012-07-31 00:00:00            2011-05-31 00:00:00  \n",
      "75%              2013-01-28 00:00:00            2011-05-31 00:00:00  \n",
      "max              2013-06-30 00:00:00            2013-05-30 00:00:00  \n",
      "std                              NaN                            NaN  \n"
     ]
    }
   ],
   "source": [
    "# Résumé statistique des colonnes numériques\n",
    "print(\"\\nStatistiques descriptives des colonnes numériques:\")\n",
    "print(data.describe())"
   ]
  },
  {
   "cell_type": "markdown",
   "metadata": {},
   "source": [
    "## Analyse et Prévision des Revenus \n",
    "Le code réalise une analyse de séries temporelles des revenus annuels à l'aide de la bibliothèque **Prophet**, une méthode puissante pour les prévisions. Après avoir chargé les données depuis un fichier Excel, il les prépare en convertissant les colonnes de dates et de revenus et en supprimant les lignes avec des valeurs manquantes. Les revenus sont ensuite agrégés par année, fournissant une vue d'ensemble claire des tendances historiques. Le modèle Prophet est ensuite entraîné sur ces données pour prédire les revenus pour les cinq prochaines années. Les résultats, comprenant les prévisions et les valeurs réelles, sont sauvegardés dans un fichier Excel et visualisés sous forme de graphique.\n",
    "\n",
    "Cette demarche est cruciale pour l'analyse des données, car il permet de comprendre les tendances passées et de prévoir les évolutions futures, offrant ainsi un outil précieux pour la prise de décisions stratégiques et l'optimisation des ressources."
   ]
  },
  {
   "cell_type": "code",
   "execution_count": 64,
   "metadata": {},
   "outputs": [
    {
     "name": "stderr",
     "output_type": "stream",
     "text": [
      "14:57:15 - cmdstanpy - INFO - Chain [1] start processing\n",
      "14:57:15 - cmdstanpy - INFO - Chain [1] done processing\n",
      "c:\\Users\\PE\\AppData\\Local\\Programs\\Python\\Python312\\Lib\\site-packages\\prophet\\forecaster.py:1854: FutureWarning: 'A' is deprecated and will be removed in a future version, please use 'YE' instead.\n",
      "  dates = pd.date_range(\n"
     ]
    },
    {
     "data": {
      "image/png": "[encoded data removed]",
      "text/plain": [
       "<Figure size 1000x600 with 1 Axes>"
      ]
     },
     "metadata": {},
     "output_type": "display_data"
    }
   ],
   "source": [
    "# Importer les bibliothèques nécessaires\n",
    "import pandas as pd\n",
    "import matplotlib.pyplot as plt\n",
    "from statsmodels.tsa.arima.model import ARIMA\n",
    "from prophet import Prophet\n",
    "\n",
    "# Charger les données depuis le fichier Excel\n",
    "file_path = r\"C:\\Users\\PE\\Desktop\\machine learning\\tesss4.xlsx\"\n",
    "data = pd.read_excel(file_path)\n",
    "\n",
    "# Préparer les données : convertir les dates et vérifier la colonne Revenue\n",
    "data['DATE'] = pd.to_datetime(data['DATE'])  # Convertir en datetime\n",
    "data['Revenue'] = pd.to_numeric(data['Revenue'], errors='coerce')  # Convertir en numérique\n",
    "data.dropna(inplace=True)  # Supprimer les lignes avec des valeurs manquantes\n",
    "\n",
    "# Agréger les revenus par année\n",
    "data['Year'] = data['DATE'].dt.year  # Extraire l'année\n",
    "annual_revenue = data.groupby('Year')['Revenue'].sum()  # Somme des revenus par année\n",
    "annual_revenue.index = pd.to_datetime(annual_revenue.index, format='%Y')  # Convertir les années en datetime\n",
    "\n",
    "# ---- Modèle Prophet ----\n",
    "prophet_data = annual_revenue.reset_index()\n",
    "prophet_data.columns = ['ds', 'y']\n",
    "\n",
    "model_prophet = Prophet(yearly_seasonality=True)\n",
    "model_prophet.fit(prophet_data)\n",
    "\n",
    "# Prévisions Prophet\n",
    "future = model_prophet.make_future_dataframe(periods=5, freq='A')\n",
    "forecast_prophet = model_prophet.predict(future)\n",
    "\n",
    "# Ajouter les prévisions au DataFrame original\n",
    "forecast_with_actuals = future.copy()\n",
    "forecast_with_actuals['Predictions'] = forecast_prophet['yhat']\n",
    "\n",
    "# Sauvegarder les résultats dans un nouveau fichier Excel\n",
    "output_file_path = r\"C:\\Users\\PE\\Desktop\\prophettt.xlsx\"\n",
    "forecast_with_actuals.to_excel(output_file_path, index=False)\n",
    "\n",
    "# ---- Visualiser les prévisions Prophet ----\n",
    "model_prophet.plot(forecast_prophet)\n",
    "plt.title(\"Prévisions des revenus avec Prophet\")\n",
    "plt.xlabel(\"Année\")\n",
    "plt.ylabel(\"Revenus (totaux)\")\n",
    "plt.show()\n"
   ]
  },
  {
   "cell_type": "markdown",
   "metadata": {},
   "source": [
    "## Analyse des Performances des Vendeurs \n",
    "Le code utilise la bibliothèque Prophet pour analyser et prédire les performances des vendeurs individuels en termes de revenus. Il vérifie et convertit les revenus au format numérique pour garantir leur intégrité. Les données sont ensuite regroupées par vendeur (SalePersonKey) et date (DATE), en calculant la somme des revenus pour chaque combinaison. Chaque groupe est préparé pour l'entraînement d'un modèle Prophet, qui prévoit les revenus pour chaque vendeur sur une période de deux ans.\n",
    "\n",
    "Les résultats des prévisions sont combinés dans un seul DataFrame pour permettre des analyses globales, comme le calcul des revenus annuels prévus par vendeur. Les meilleurs vendeurs pour chaque année sont identifiés en fonction des revenus prévus, offrant une vue comparative des performances. Les résultats sont sauvegardés dans un fichier Excel, facilitant une analyse approfondie."
   ]
  },
  {
   "cell_type": "code",
   "execution_count": 105,
   "metadata": {},
   "outputs": [
    {
     "name": "stderr",
     "output_type": "stream",
     "text": [
      "18:18:07 - cmdstanpy - INFO - Chain [1] start processing\n",
      "18:18:16 - cmdstanpy - INFO - Chain [1] done processing\n",
      "18:18:17 - cmdstanpy - INFO - Chain [1] start processing\n",
      "18:18:17 - cmdstanpy - INFO - Chain [1] done processing\n",
      "18:18:17 - cmdstanpy - INFO - Chain [1] start processing\n",
      "18:18:17 - cmdstanpy - INFO - Chain [1] done processing\n",
      "18:18:18 - cmdstanpy - INFO - Chain [1] start processing\n",
      "18:18:18 - cmdstanpy - INFO - Chain [1] done processing\n",
      "18:18:18 - cmdstanpy - INFO - Chain [1] start processing\n",
      "18:18:18 - cmdstanpy - INFO - Chain [1] done processing\n",
      "18:18:19 - cmdstanpy - INFO - Chain [1] start processing\n",
      "18:18:19 - cmdstanpy - INFO - Chain [1] done processing\n",
      "18:18:19 - cmdstanpy - INFO - Chain [1] start processing\n",
      "18:18:19 - cmdstanpy - INFO - Chain [1] done processing\n",
      "18:18:20 - cmdstanpy - INFO - Chain [1] start processing\n",
      "18:18:20 - cmdstanpy - INFO - Chain [1] done processing\n",
      "18:18:20 - cmdstanpy - INFO - Chain [1] start processing\n",
      "18:18:20 - cmdstanpy - INFO - Chain [1] done processing\n",
      "18:18:20 - cmdstanpy - INFO - Chain [1] start processing\n",
      "18:18:21 - cmdstanpy - INFO - Chain [1] done processing\n",
      "18:18:21 - cmdstanpy - INFO - Chain [1] start processing\n",
      "18:18:21 - cmdstanpy - INFO - Chain [1] done processing\n",
      "18:18:21 - cmdstanpy - INFO - Chain [1] start processing\n",
      "18:18:23 - cmdstanpy - INFO - Chain [1] done processing\n",
      "18:18:23 - cmdstanpy - INFO - Chain [1] start processing\n",
      "18:18:23 - cmdstanpy - INFO - Chain [1] done processing\n",
      "18:18:24 - cmdstanpy - INFO - Chain [1] start processing\n",
      "18:18:26 - cmdstanpy - INFO - Chain [1] done processing\n",
      "18:18:26 - cmdstanpy - INFO - Chain [1] start processing\n",
      "18:18:26 - cmdstanpy - INFO - Chain [1] done processing\n",
      "18:18:27 - cmdstanpy - INFO - Chain [1] start processing\n",
      "18:18:27 - cmdstanpy - INFO - Chain [1] done processing\n"
     ]
    },
    {
     "name": "stdout",
     "output_type": "stream",
     "text": [
      "Top vendeurs pour chaque année :\n",
      "    SalePersonKey  year          yhat\n",
      "15              4  2011  1.728227e+06\n",
      "25              6  2011  1.715208e+06\n",
      "10              3  2011  1.370587e+06\n",
      "40              9  2011  1.343798e+06\n",
      "5               2  2011  1.187822e+06\n",
      "16              4  2012  4.397926e+06\n",
      "11              3  2012  4.233615e+06\n",
      "64             15  2012  3.578935e+06\n",
      "6               2  2012  3.446360e+06\n",
      "26              6  2012  3.048211e+06\n",
      "12              3  2013  1.491908e+08\n",
      "37              8  2013  1.217946e+08\n",
      "17              4  2013  9.303332e+07\n",
      "7               2  2013  8.954918e+07\n",
      "54             12  2013  8.175120e+07\n",
      "55             12  2014  4.748248e+08\n",
      "13              3  2014  2.567079e+08\n",
      "8               2  2014  2.319476e+08\n",
      "18              4  2014  2.136468e+08\n",
      "62             14  2014  1.510440e+08\n",
      "56             12  2015  3.898634e+08\n",
      "9               2  2015  1.441360e+08\n",
      "19              4  2015  1.225968e+08\n",
      "14              3  2015  1.094199e+08\n",
      "63             14  2015  1.010534e+08\n",
      "Les prédictions des meilleurs vendeurs ont été sauvegardées dans le fichier 'top_sellers_predictions.xlsx'.\n"
     ]
    }
   ],
   "source": [
    "import pandas as pd\n",
    "from prophet import Prophet\n",
    "\n",
    "# Charger les données\n",
    "data = pd.read_excel('C:\\\\Users\\\\PE\\\\Desktop\\\\machine learning\\\\tesss4.xlsx')\n",
    "\n",
    "# Vérifier si la colonne 'Revenue' est bien au format numérique, sinon la convertir\n",
    "if data['Revenue'].dtype == 'object':\n",
    "    data['Revenue'] = data['Revenue'].str.replace(',', '').astype(float)\n",
    "\n",
    "# Regrouper les données par SalePersonKey et DATE, puis sommer les revenus\n",
    "salesperson_revenue = data.groupby(['SalePersonKey', 'DATE'])['Revenue'].sum().reset_index()\n",
    "\n",
    "# Préparer les données pour Prophet\n",
    "salesperson_revenue = salesperson_revenue.rename(columns={'DATE': 'ds', 'Revenue': 'y'})\n",
    "\n",
    "# Créer un DataFrame pour stocker toutes les prédictions futures\n",
    "future_predictions = pd.DataFrame()\n",
    "\n",
    "# Liste des vendeurs uniques\n",
    "sellers = salesperson_revenue['SalePersonKey'].unique()\n",
    "\n",
    "# Prédictions pour chaque vendeur\n",
    "for seller in sellers:\n",
    "    # Filtrer les données pour le vendeur actuel\n",
    "    seller_data = salesperson_revenue[salesperson_revenue['SalePersonKey'] == seller][['ds', 'y']]\n",
    "\n",
    "    # Créer et entraîner le modèle Prophet\n",
    "    model = Prophet()\n",
    "    model.fit(seller_data)\n",
    "\n",
    "    # Créer un DataFrame avec des dates futures pour la prédiction\n",
    "    future = model.make_future_dataframe(periods=365 * 2)  # Prédire pour 2 ans\n",
    "    forecast = model.predict(future)\n",
    "\n",
    "    # Ajouter les prédictions au DataFrame des prédictions futures\n",
    "    forecast['SalePersonKey'] = seller  # Ajouter l'identifiant du vendeur\n",
    "    future_predictions = pd.concat([future_predictions, forecast[['ds', 'yhat', 'SalePersonKey']]])\n",
    "\n",
    "# Ajouter une colonne pour l'année\n",
    "future_predictions['year'] = pd.to_datetime(future_predictions['ds']).dt.year\n",
    "\n",
    "# Calculer les revenus totaux prévus par vendeur et par année\n",
    "predicted_revenues = future_predictions.groupby(['SalePersonKey', 'year'])['yhat'].sum().reset_index()\n",
    "\n",
    "# Identifier les meilleurs vendeurs pour chaque année\n",
    "top_sellers = predicted_revenues.sort_values(['year', 'yhat'], ascending=[True, False]).groupby('year').head(5)\n",
    "\n",
    "# Afficher les résultats\n",
    "print(\"Top vendeurs pour chaque année :\")\n",
    "print(top_sellers)\n",
    "\n",
    "# Sauvegarder les résultats dans un fichier Excel\n",
    "top_sellers.to_excel('top_sellers_predictions.xlsx', index=False)\n",
    "\n",
    "print(\"Les prédictions des meilleurs vendeurs ont été sauvegardées dans le fichier 'top_sellers_predictions.xlsx'.\")\n"
   ]
  },
  {
   "cell_type": "code",
   "execution_count": 127,
   "metadata": {},
   "outputs": [
    {
     "data": {
      "image/png": "[encoded data removed]",
      "text/plain": [
       "<Figure size 1600x1000 with 5 Axes>"
      ]
     },
     "metadata": {},
     "output_type": "display_data"
    }
   ],
   "source": [
    "import pandas as pd\n",
    "import matplotlib.pyplot as plt\n",
    "\n",
    "# Add a year column to the data\n",
    "future_predictions['year'] = future_predictions['ds'].dt.year\n",
    "\n",
    "# Group by year and SalePersonKey, then sum the total predicted revenue\n",
    "sellers_by_year = future_predictions.groupby(['year', 'SalePersonKey'])['yhat'].sum().reset_index()\n",
    "\n",
    "# Sort by year and revenue in descending order\n",
    "sellers_by_year = sellers_by_year.sort_values(by=['year', 'yhat'], ascending=[True, False])\n",
    "\n",
    "# Add a ranking column within each year\n",
    "sellers_by_year['rank'] = sellers_by_year.groupby('year')['yhat'].rank(method='first', ascending=False)\n",
    "\n",
    "# Filter for top 5 sellers per year\n",
    "top_5_sellers_per_year = sellers_by_year[sellers_by_year['rank'] <= 5]\n",
    "\n",
    "# Create a separate plot for each year\n",
    "years = top_5_sellers_per_year['year'].unique()\n",
    "\n",
    "plt.figure(figsize=(16, 10))\n",
    "\n",
    "for i, year in enumerate(years):\n",
    "    plt.subplot(len(years), 1, i+1)\n",
    "    \n",
    "    year_data = top_5_sellers_per_year[top_5_sellers_per_year['year'] == year]\n",
    "    \n",
    "    # Plotting the top 5 sellers for the given year\n",
    "    plt.bar(year_data['SalePersonKey'].astype(str), year_data['yhat'], color='skyblue')\n",
    "    \n",
    "    plt.title(f\"Top 5 Sellers for Year {year}\")\n",
    "    plt.xlabel(\"Seller (ID)\")\n",
    "    plt.ylabel(\"Predicted Revenue\")\n",
    "    plt.xticks(rotation=45, ha=\"right\")\n",
    "    plt.tight_layout()\n",
    "\n",
    "plt.show()\n",
    "\n"
   ]
  },
  {
   "cell_type": "code",
   "execution_count": 126,
   "metadata": {},
   "outputs": [
    {
     "name": "stdout",
     "output_type": "stream",
     "text": [
      "2011-05-31 00:00:00 2015-06-30 00:00:00\n"
     ]
    },
    {
     "data": {
      "text/html": [
       "<div>\n",
       "<style scoped>\n",
       "    .dataframe tbody tr th:only-of-type {\n",
       "        vertical-align: middle;\n",
       "    }\n",
       "\n",
       "    .dataframe tbody tr th {\n",
       "        vertical-align: top;\n",
       "    }\n",
       "\n",
       "    .dataframe thead th {\n",
       "        text-align: right;\n",
       "    }\n",
       "</style>\n",
       "<table border=\"1\" class=\"dataframe\">\n",
       "  <thead>\n",
       "    <tr style=\"text-align: right;\">\n",
       "      <th></th>\n",
       "      <th>year</th>\n",
       "      <th>SalePersonKey</th>\n",
       "      <th>yhat</th>\n",
       "      <th>rank</th>\n",
       "    </tr>\n",
       "  </thead>\n",
       "  <tbody>\n",
       "    <tr>\n",
       "      <th>3</th>\n",
       "      <td>2011</td>\n",
       "      <td>4</td>\n",
       "      <td>1.728227e+06</td>\n",
       "      <td>1.0</td>\n",
       "    </tr>\n",
       "    <tr>\n",
       "      <th>5</th>\n",
       "      <td>2011</td>\n",
       "      <td>6</td>\n",
       "      <td>1.715208e+06</td>\n",
       "      <td>2.0</td>\n",
       "    </tr>\n",
       "    <tr>\n",
       "      <th>2</th>\n",
       "      <td>2011</td>\n",
       "      <td>3</td>\n",
       "      <td>1.370587e+06</td>\n",
       "      <td>3.0</td>\n",
       "    </tr>\n",
       "    <tr>\n",
       "      <th>8</th>\n",
       "      <td>2011</td>\n",
       "      <td>9</td>\n",
       "      <td>1.343798e+06</td>\n",
       "      <td>4.0</td>\n",
       "    </tr>\n",
       "    <tr>\n",
       "      <th>1</th>\n",
       "      <td>2011</td>\n",
       "      <td>2</td>\n",
       "      <td>1.187822e+06</td>\n",
       "      <td>5.0</td>\n",
       "    </tr>\n",
       "    <tr>\n",
       "      <th>13</th>\n",
       "      <td>2012</td>\n",
       "      <td>4</td>\n",
       "      <td>4.397926e+06</td>\n",
       "      <td>1.0</td>\n",
       "    </tr>\n",
       "    <tr>\n",
       "      <th>12</th>\n",
       "      <td>2012</td>\n",
       "      <td>3</td>\n",
       "      <td>4.233615e+06</td>\n",
       "      <td>2.0</td>\n",
       "    </tr>\n",
       "    <tr>\n",
       "      <th>22</th>\n",
       "      <td>2012</td>\n",
       "      <td>15</td>\n",
       "      <td>3.578935e+06</td>\n",
       "      <td>3.0</td>\n",
       "    </tr>\n",
       "    <tr>\n",
       "      <th>11</th>\n",
       "      <td>2012</td>\n",
       "      <td>2</td>\n",
       "      <td>3.446360e+06</td>\n",
       "      <td>4.0</td>\n",
       "    </tr>\n",
       "    <tr>\n",
       "      <th>15</th>\n",
       "      <td>2012</td>\n",
       "      <td>6</td>\n",
       "      <td>3.048211e+06</td>\n",
       "      <td>5.0</td>\n",
       "    </tr>\n",
       "    <tr>\n",
       "      <th>26</th>\n",
       "      <td>2013</td>\n",
       "      <td>3</td>\n",
       "      <td>1.491908e+08</td>\n",
       "      <td>1.0</td>\n",
       "    </tr>\n",
       "    <tr>\n",
       "      <th>31</th>\n",
       "      <td>2013</td>\n",
       "      <td>8</td>\n",
       "      <td>1.217946e+08</td>\n",
       "      <td>2.0</td>\n",
       "    </tr>\n",
       "    <tr>\n",
       "      <th>27</th>\n",
       "      <td>2013</td>\n",
       "      <td>4</td>\n",
       "      <td>9.303332e+07</td>\n",
       "      <td>3.0</td>\n",
       "    </tr>\n",
       "    <tr>\n",
       "      <th>25</th>\n",
       "      <td>2013</td>\n",
       "      <td>2</td>\n",
       "      <td>8.954918e+07</td>\n",
       "      <td>4.0</td>\n",
       "    </tr>\n",
       "    <tr>\n",
       "      <th>35</th>\n",
       "      <td>2013</td>\n",
       "      <td>12</td>\n",
       "      <td>8.175120e+07</td>\n",
       "      <td>5.0</td>\n",
       "    </tr>\n",
       "    <tr>\n",
       "      <th>51</th>\n",
       "      <td>2014</td>\n",
       "      <td>12</td>\n",
       "      <td>4.748248e+08</td>\n",
       "      <td>1.0</td>\n",
       "    </tr>\n",
       "    <tr>\n",
       "      <th>42</th>\n",
       "      <td>2014</td>\n",
       "      <td>3</td>\n",
       "      <td>2.567079e+08</td>\n",
       "      <td>2.0</td>\n",
       "    </tr>\n",
       "    <tr>\n",
       "      <th>41</th>\n",
       "      <td>2014</td>\n",
       "      <td>2</td>\n",
       "      <td>2.319476e+08</td>\n",
       "      <td>3.0</td>\n",
       "    </tr>\n",
       "    <tr>\n",
       "      <th>43</th>\n",
       "      <td>2014</td>\n",
       "      <td>4</td>\n",
       "      <td>2.136468e+08</td>\n",
       "      <td>4.0</td>\n",
       "    </tr>\n",
       "    <tr>\n",
       "      <th>53</th>\n",
       "      <td>2014</td>\n",
       "      <td>14</td>\n",
       "      <td>1.510440e+08</td>\n",
       "      <td>5.0</td>\n",
       "    </tr>\n",
       "    <tr>\n",
       "      <th>67</th>\n",
       "      <td>2015</td>\n",
       "      <td>12</td>\n",
       "      <td>3.898634e+08</td>\n",
       "      <td>1.0</td>\n",
       "    </tr>\n",
       "    <tr>\n",
       "      <th>57</th>\n",
       "      <td>2015</td>\n",
       "      <td>2</td>\n",
       "      <td>1.441360e+08</td>\n",
       "      <td>2.0</td>\n",
       "    </tr>\n",
       "    <tr>\n",
       "      <th>59</th>\n",
       "      <td>2015</td>\n",
       "      <td>4</td>\n",
       "      <td>1.225968e+08</td>\n",
       "      <td>3.0</td>\n",
       "    </tr>\n",
       "    <tr>\n",
       "      <th>58</th>\n",
       "      <td>2015</td>\n",
       "      <td>3</td>\n",
       "      <td>1.094199e+08</td>\n",
       "      <td>4.0</td>\n",
       "    </tr>\n",
       "    <tr>\n",
       "      <th>69</th>\n",
       "      <td>2015</td>\n",
       "      <td>14</td>\n",
       "      <td>1.010534e+08</td>\n",
       "      <td>5.0</td>\n",
       "    </tr>\n",
       "  </tbody>\n",
       "</table>\n",
       "</div>"
      ],
      "text/plain": [
       "    year  SalePersonKey          yhat  rank\n",
       "3   2011              4  1.728227e+06   1.0\n",
       "5   2011              6  1.715208e+06   2.0\n",
       "2   2011              3  1.370587e+06   3.0\n",
       "8   2011              9  1.343798e+06   4.0\n",
       "1   2011              2  1.187822e+06   5.0\n",
       "13  2012              4  4.397926e+06   1.0\n",
       "12  2012              3  4.233615e+06   2.0\n",
       "22  2012             15  3.578935e+06   3.0\n",
       "11  2012              2  3.446360e+06   4.0\n",
       "15  2012              6  3.048211e+06   5.0\n",
       "26  2013              3  1.491908e+08   1.0\n",
       "31  2013              8  1.217946e+08   2.0\n",
       "27  2013              4  9.303332e+07   3.0\n",
       "25  2013              2  8.954918e+07   4.0\n",
       "35  2013             12  8.175120e+07   5.0\n",
       "51  2014             12  4.748248e+08   1.0\n",
       "42  2014              3  2.567079e+08   2.0\n",
       "41  2014              2  2.319476e+08   3.0\n",
       "43  2014              4  2.136468e+08   4.0\n",
       "53  2014             14  1.510440e+08   5.0\n",
       "67  2015             12  3.898634e+08   1.0\n",
       "57  2015              2  1.441360e+08   2.0\n",
       "59  2015              4  1.225968e+08   3.0\n",
       "58  2015              3  1.094199e+08   4.0\n",
       "69  2015             14  1.010534e+08   5.0"
      ]
     },
     "execution_count": 126,
     "metadata": {},
     "output_type": "execute_result"
    }
   ],
   "source": [
    "import pandas as pd\n",
    "\n",
    "# Check the range of the 'DATE' column\n",
    "print(future_predictions['ds'].min(), future_predictions['ds'].max())\n",
    "\n",
    "# Filter and group by year as needed\n",
    "future_predictions['year'] = future_predictions['ds'].dt.year\n",
    "\n",
    "# Now, ensure the future_predictions dataframe includes data for 2011\n",
    "sellers_by_year = future_predictions.groupby(['year', 'SalePersonKey'])['yhat'].sum().reset_index()\n",
    "\n",
    "# Sorting by year and revenue\n",
    "sellers_by_year = sellers_by_year.sort_values(by=['year', 'yhat'], ascending=[True, False])\n",
    "\n",
    "# Add rank column for sellers per year\n",
    "sellers_by_year['rank'] = sellers_by_year.groupby('year')['yhat'].rank(method='first', ascending=False)\n",
    "\n",
    "# Filter for top 5 sellers per year\n",
    "top_5_sellers_per_year = sellers_by_year[sellers_by_year['rank'] <= 5]\n",
    "\n",
    "# Ensure that data includes year 2011 if it exists\n",
    "top_5_sellers_per_year\n"
   ]
  },
  {
   "cell_type": "code",
   "execution_count": null,
   "metadata": {},
   "outputs": [],
   "source": []
  }
 ],
 "metadata": {
  "kernelspec": {
   "display_name": "Python 3",
   "language": "python",
   "name": "python3"
  },
  "language_info": {
   "codemirror_mode": {
    "name": "ipython",
    "version": 3
   },
   "file_extension": ".py",
   "mimetype": "text/x-python",
   "name": "python",
   "nbconvert_exporter": "python",
   "pygments_lexer": "ipython3",
   "version": "3.12.3"
  }
 },
 "nbformat": 4,
 "nbformat_minor": 2
}
